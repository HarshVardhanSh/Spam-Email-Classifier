{
 "cells": [
  {
   "cell_type": "markdown",
   "metadata": {},
   "source": [
    "# Spam Classifier"
   ]
  },
  {
   "cell_type": "code",
   "execution_count": 22,
   "metadata": {},
   "outputs": [],
   "source": [
    "import os\n",
    "import io\n",
    "import numpy\n",
    "import pandas as pd\n",
    "from sklearn.feature_extraction.text import CountVectorizer\n",
    "from sklearn.naive_bayes import MultinomialNB\n",
    "\n",
    "def readFiles(path):\n",
    "    for root, dirnames, filenames in os.walk(path):\n",
    "        for filename in filenames:\n",
    "            path = os.path.join(root, filename)\n",
    "\n",
    "            inBody = True\n",
    "            lines = []\n",
    "            f = io.open(path, 'r', encoding='latin1')\n",
    "            for line in f:\n",
    "                if inBody:\n",
    "                    lines.append(line)\n",
    "                elif line == '\\n':\n",
    "                    inBody = False\n",
    "            f.close()\n",
    "            message = '\\n'.join(lines)\n",
    "            yield path, message\n",
    "\n",
    "\n",
    "def dataFrameFromDirectory(path, classification):\n",
    "    rows = []\n",
    "    index = []\n",
    "    for filename, message in readFiles(path):\n",
    "        rows.append({'message': message, 'class': classification})\n",
    "        index.append(filename)\n",
    "\n",
    "    return pd.DataFrame(rows, index=index)\n",
    "\n",
    "data = pd.DataFrame({'message': [], 'class': []})\n",
    "\n",
    "data = data.append(dataFrameFromDirectory(\"C:/Users/HarshLaptop/Desktop/DataScience/DataScience-Python3/emails/spam\", 'spam'))\n",
    "data = data.append(dataFrameFromDirectory(\"C:/Users/HarshLaptop/Desktop/DataScience/DataScience-Python3/emails/ham\", 'ham'))\n"
   ]
  },
  {
   "cell_type": "markdown",
   "metadata": {},
   "source": [
    "Let's have a look at that DataFrame:"
   ]
  },
  {
   "cell_type": "code",
   "execution_count": 23,
   "metadata": {},
   "outputs": [
    {
     "data": {
      "text/html": [
       "<div>\n",
       "<style>\n",
       "    .dataframe thead tr:only-child th {\n",
       "        text-align: right;\n",
       "    }\n",
       "\n",
       "    .dataframe thead th {\n",
       "        text-align: left;\n",
       "    }\n",
       "\n",
       "    .dataframe tbody tr th {\n",
       "        vertical-align: top;\n",
       "    }\n",
       "</style>\n",
       "<table border=\"1\" class=\"dataframe\">\n",
       "  <thead>\n",
       "    <tr style=\"text-align: right;\">\n",
       "      <th></th>\n",
       "      <th>class</th>\n",
       "      <th>message</th>\n",
       "    </tr>\n",
       "  </thead>\n",
       "  <tbody>\n",
       "    <tr>\n",
       "      <th>C:/Users/HarshLaptop/Desktop/DataScience/DataScience-Python3/emails/spam\\0002.2001-05-25.SA_and_HP.spam.txt</th>\n",
       "      <td>spam</td>\n",
       "      <td>Subject: fw : this is the solution i mentioned...</td>\n",
       "    </tr>\n",
       "    <tr>\n",
       "      <th>C:/Users/HarshLaptop/Desktop/DataScience/DataScience-Python3/emails/spam\\0002.2003-12-18.GP.spam.txt</th>\n",
       "      <td>spam</td>\n",
       "      <td>Subject: adv : space saving computer to replac...</td>\n",
       "    </tr>\n",
       "    <tr>\n",
       "      <th>C:/Users/HarshLaptop/Desktop/DataScience/DataScience-Python3/emails/spam\\0003.2003-12-18.GP.spam.txt</th>\n",
       "      <td>spam</td>\n",
       "      <td>Subject: fw : account over due wfxu ppmfztdtet...</td>\n",
       "    </tr>\n",
       "    <tr>\n",
       "      <th>C:/Users/HarshLaptop/Desktop/DataScience/DataScience-Python3/emails/spam\\0004.2001-06-12.SA_and_HP.spam.txt</th>\n",
       "      <td>spam</td>\n",
       "      <td>Subject: spend too much on your phone bill ? 2...</td>\n",
       "    </tr>\n",
       "    <tr>\n",
       "      <th>C:/Users/HarshLaptop/Desktop/DataScience/DataScience-Python3/emails/spam\\0005.2001-06-23.SA_and_HP.spam.txt</th>\n",
       "      <td>spam</td>\n",
       "      <td>Subject: discounted mortgage broker 512517\\n\\n...</td>\n",
       "    </tr>\n",
       "  </tbody>\n",
       "</table>\n",
       "</div>"
      ],
      "text/plain": [
       "                                                   class  \\\n",
       "C:/Users/HarshLaptop/Desktop/DataScience/DataSc...  spam   \n",
       "C:/Users/HarshLaptop/Desktop/DataScience/DataSc...  spam   \n",
       "C:/Users/HarshLaptop/Desktop/DataScience/DataSc...  spam   \n",
       "C:/Users/HarshLaptop/Desktop/DataScience/DataSc...  spam   \n",
       "C:/Users/HarshLaptop/Desktop/DataScience/DataSc...  spam   \n",
       "\n",
       "                                                                                              message  \n",
       "C:/Users/HarshLaptop/Desktop/DataScience/DataSc...  Subject: fw : this is the solution i mentioned...  \n",
       "C:/Users/HarshLaptop/Desktop/DataScience/DataSc...  Subject: adv : space saving computer to replac...  \n",
       "C:/Users/HarshLaptop/Desktop/DataScience/DataSc...  Subject: fw : account over due wfxu ppmfztdtet...  \n",
       "C:/Users/HarshLaptop/Desktop/DataScience/DataSc...  Subject: spend too much on your phone bill ? 2...  \n",
       "C:/Users/HarshLaptop/Desktop/DataScience/DataSc...  Subject: discounted mortgage broker 512517\\n\\n...  "
      ]
     },
     "execution_count": 23,
     "metadata": {},
     "output_type": "execute_result"
    }
   ],
   "source": [
    "data.head()"
   ]
  },
  {
   "cell_type": "markdown",
   "metadata": {},
   "source": [
    "Now we will use a CountVectorizer to split up each message into its list of words, and throw that into a MultinomialNB classifier. Call fit() and we've got a trained spam filter ready to go! It's just that easy."
   ]
  },
  {
   "cell_type": "code",
   "execution_count": 36,
   "metadata": {},
   "outputs": [
    {
     "name": "stdout",
     "output_type": "stream",
     "text": [
      "<class 'scipy.sparse.csr.csr_matrix'>\n"
     ]
    },
    {
     "data": {
      "text/plain": [
       "MultinomialNB(alpha=1.0, class_prior=None, fit_prior=True)"
      ]
     },
     "execution_count": 36,
     "metadata": {},
     "output_type": "execute_result"
    }
   ],
   "source": [
    "vectorizer = CountVectorizer()\n",
    "counts = vectorizer.fit_transform(data['message'].values)\n",
    "from sklearn.model_selection import train_test_splitl\n",
    "X_train,X_test, y_train, y_test = train_test_split(counts, test_size = 0.3) \n",
    "classifier = MultinomialNB()\n",
    "classifier.fit(X_train, y_train)"
   ]
  },
  {
   "cell_type": "markdown",
   "metadata": {},
   "source": [
    "Let's try it out:"
   ]
  },
  {
   "cell_type": "code",
   "execution_count": 35,
   "metadata": {},
   "outputs": [
    {
     "data": {
      "text/plain": [
       "array(['spam', 'ham'], \n",
       "      dtype='<U4')"
      ]
     },
     "execution_count": 35,
     "metadata": {},
     "output_type": "execute_result"
    }
   ],
   "source": [
    "examples = ['Free Viagra now!!!', \"Hi Bob, how about a game of golf tomorrow?\"]\n",
    "example_counts = vectorizer.transform(examples)\n",
    "predictions = classifier.predict(example_counts)\n",
    "predictions"
   ]
  },
  {
   "cell_type": "markdown",
   "metadata": {},
   "source": [
    "## Activity"
   ]
  },
  {
   "cell_type": "markdown",
   "metadata": {},
   "source": [
    "Our data set is small, so our spam classifier isn't actually very good. Try running some different test emails through it and see if you get the results you expect.\n",
    "\n",
    "If you really want to challenge yourself, try applying train/test to this spam classifier - see how well it can predict some subset of the ham and spam emails."
   ]
  },
  {
   "cell_type": "code",
   "execution_count": null,
   "metadata": {
    "collapsed": true
   },
   "outputs": [],
   "source": []
  }
 ],
 "metadata": {
  "kernelspec": {
   "display_name": "Python 3",
   "language": "python",
   "name": "python3"
  },
  "language_info": {
   "codemirror_mode": {
    "name": "ipython",
    "version": 3
   },
   "file_extension": ".py",
   "mimetype": "text/x-python",
   "name": "python",
   "nbconvert_exporter": "python",
   "pygments_lexer": "ipython3",
   "version": "3.6.1"
  }
 },
 "nbformat": 4,
 "nbformat_minor": 1
}
